{
 "cells": [
  {
   "cell_type": "code",
   "execution_count": 22,
   "id": "ce202c89",
   "metadata": {},
   "outputs": [],
   "source": [
    "#importing all the necessary libraries\n",
    "import selenium\n",
    "import pandas as pd\n",
    "import numpy as np\n",
    "from selenium import webdriver\n",
    "from bs4 import BeautifulSoup\n",
    "import requests\n",
    "import time\n",
    "from selenium.common.exceptions import NoSuchElementException,ElementNotInteractableException,ElementNotVisibleException\n",
    "import re\n",
    "import warnings\n",
    "warnings.filterwarnings('ignore')\n"
   ]
  },
  {
   "cell_type": "code",
   "execution_count": 23,
   "id": "c2cb1e1f",
   "metadata": {},
   "outputs": [],
   "source": [
    "from selenium.webdriver.edge.service import Service"
   ]
  },
  {
   "cell_type": "code",
   "execution_count": 24,
   "id": "6e105c1e",
   "metadata": {},
   "outputs": [],
   "source": [
    "s = Service(\"msedgedriver.exe\")"
   ]
  },
  {
   "cell_type": "markdown",
   "id": "0e916b16",
   "metadata": {},
   "source": [
    "### Amazon.com"
   ]
  },
  {
   "cell_type": "code",
   "execution_count": 25,
   "id": "f90f920b",
   "metadata": {},
   "outputs": [],
   "source": [
    "#driver loads www.amazon.in\n",
    "url =  'https://www.amazon.in/'\n",
    "driver = webdriver.Edge(\"msedgedriver.exe\")\n",
    "driver.get(url)\n"
   ]
  },
  {
   "cell_type": "markdown",
   "id": "edc69977",
   "metadata": {},
   "source": [
    "#### Collecting Reviews and Comments for Smartphones"
   ]
  },
  {
   "cell_type": "code",
   "execution_count": 26,
   "id": "fbf6a2fd",
   "metadata": {},
   "outputs": [],
   "source": [
    "#searching for \"smartphones\"\n",
    "search = driver.find_element_by_xpath('/html/body/div[1]/header/div/div[1]/div[2]/div/form/div[2]/div[1]/input')\n",
    "search.send_keys(\"smartphones above 15000\")\n",
    "search = driver.find_element_by_xpath('/html/body/div[1]/header/div/div[1]/div[2]/div/form/div[3]/div/span/input')\n",
    "search.click()\n",
    "\n"
   ]
  },
  {
   "cell_type": "code",
   "execution_count": 27,
   "id": "50d9fa8b",
   "metadata": {},
   "outputs": [],
   "source": [
    "#empty list for stoing all URLs of smartphone products\n",
    "produrl =[]"
   ]
  },
  {
   "cell_type": "code",
   "execution_count": 28,
   "id": "d387b4a4",
   "metadata": {},
   "outputs": [],
   "source": [
    "produrl_tag = driver.find_elements_by_xpath(\"//a[@class='a-link-normal s-link-style a-text-normal']\")"
   ]
  },
  {
   "cell_type": "code",
   "execution_count": 29,
   "id": "c92766f7",
   "metadata": {},
   "outputs": [],
   "source": [
    "#the url of each smartphone is appended to the the list\n",
    "for u in produrl_tag:\n",
    " try: \n",
    "     produrl.append(u.get_attribute(\"href\"))\n",
    " except:\n",
    "    produrl.append('-')"
   ]
  },
  {
   "cell_type": "code",
   "execution_count": 30,
   "id": "9181406b",
   "metadata": {},
   "outputs": [],
   "source": [
    "# an empty list to store all the urls of the comment pages\n",
    "rateurl = []"
   ]
  },
  {
   "cell_type": "code",
   "execution_count": 31,
   "id": "6595204b",
   "metadata": {},
   "outputs": [],
   "source": [
    "\"\"\"collects all the urls of 1 star - 5 star comment pages.\n",
    "This is done to ensure that all comments that are being collected, represent each of the 5 different star ratings equally\"\"\"\n",
    "for i in produrl:\n",
    "    driver.get(i)\n",
    "    time.sleep(3)\n",
    "    url_tag5 = driver.find_element_by_xpath(\"//a[@class='a-link-normal 5star']\")\n",
    "    url_tag4 = driver.find_element_by_xpath(\"//a[@class='a-link-normal 4star']\")\n",
    "    url_tag3 = driver.find_element_by_xpath(\"//a[@class='a-link-normal 3star']\")\n",
    "    url_tag2 = driver.find_element_by_xpath(\"//a[@class='a-link-normal 2star']\")\n",
    "    url_tag1 = driver.find_element_by_xpath(\"//a[@class='a-link-normal 1star']\")\n",
    "    rateurl.append(url_tag5.get_attribute(\"href\"))\n",
    "    rateurl.append(url_tag4.get_attribute(\"href\"))\n",
    "    rateurl.append(url_tag3.get_attribute(\"href\"))\n",
    "    rateurl.append(url_tag2.get_attribute(\"href\"))\n",
    "    rateurl.append(url_tag1.get_attribute(\"href\"))\n",
    "    \n"
   ]
  },
  {
   "cell_type": "code",
   "execution_count": 32,
   "id": "2f0131e0",
   "metadata": {},
   "outputs": [],
   "source": [
    "cmnt = [] #empty list to store all comments\n",
    "rate = [] #empty list to store all the ratings\n"
   ]
  },
  {
   "cell_type": "code",
   "execution_count": 37,
   "id": "b88688b8",
   "metadata": {},
   "outputs": [],
   "source": [
    "from selenium.common.exceptions import NoSuchElementException"
   ]
  },
  {
   "cell_type": "code",
   "execution_count": 38,
   "id": "8d810a7b",
   "metadata": {},
   "outputs": [
    {
     "ename": "NoSuchElementException",
     "evalue": "Message: no such element: Unable to locate element: {\"method\":\"xpath\",\"selector\":\"//*[@id='cm_cr-pagination_bar']/ul/li[2]/a\"}\n  (Session info: MicrosoftEdge=97.0.1072.55)\n",
     "output_type": "error",
     "traceback": [
      "\u001b[1;31m---------------------------------------------------------------------------\u001b[0m",
      "\u001b[1;31mNoSuchElementException\u001b[0m                    Traceback (most recent call last)",
      "\u001b[1;32m<ipython-input-38-4cb091b8784d>\u001b[0m in \u001b[0;36m<module>\u001b[1;34m\u001b[0m\n\u001b[0;32m     16\u001b[0m             \u001b[1;32mexcept\u001b[0m\u001b[1;33m:\u001b[0m\u001b[1;33m\u001b[0m\u001b[1;33m\u001b[0m\u001b[0m\n\u001b[0;32m     17\u001b[0m                 \u001b[0mrate\u001b[0m\u001b[1;33m.\u001b[0m\u001b[0mappend\u001b[0m\u001b[1;33m(\u001b[0m\u001b[1;34m\"-\"\u001b[0m\u001b[1;33m)\u001b[0m\u001b[1;33m\u001b[0m\u001b[1;33m\u001b[0m\u001b[0m\n\u001b[1;32m---> 18\u001b[1;33m         \u001b[0mnxtbtn\u001b[0m \u001b[1;33m=\u001b[0m \u001b[0mdriver\u001b[0m\u001b[1;33m.\u001b[0m\u001b[0mfind_element_by_xpath\u001b[0m\u001b[1;33m(\u001b[0m\u001b[1;34m\"//*[@id='cm_cr-pagination_bar']/ul/li[2]/a\"\u001b[0m\u001b[1;33m)\u001b[0m\u001b[1;33m\u001b[0m\u001b[1;33m\u001b[0m\u001b[0m\n\u001b[0m\u001b[0;32m     19\u001b[0m         \u001b[0mnxtbtn\u001b[0m\u001b[1;33m.\u001b[0m\u001b[0mclick\u001b[0m\u001b[1;33m(\u001b[0m\u001b[1;33m)\u001b[0m\u001b[1;33m\u001b[0m\u001b[1;33m\u001b[0m\u001b[0m\n\u001b[0;32m     20\u001b[0m         \u001b[1;32mpass\u001b[0m\u001b[1;33m\u001b[0m\u001b[1;33m\u001b[0m\u001b[0m\n",
      "\u001b[1;32m~\\anaconda3\\lib\\site-packages\\selenium\\webdriver\\remote\\webdriver.py\u001b[0m in \u001b[0;36mfind_element_by_xpath\u001b[1;34m(self, xpath)\u001b[0m\n\u001b[0;32m    392\u001b[0m             \u001b[0melement\u001b[0m \u001b[1;33m=\u001b[0m \u001b[0mdriver\u001b[0m\u001b[1;33m.\u001b[0m\u001b[0mfind_element_by_xpath\u001b[0m\u001b[1;33m(\u001b[0m\u001b[1;34m'//div/td[1]'\u001b[0m\u001b[1;33m)\u001b[0m\u001b[1;33m\u001b[0m\u001b[1;33m\u001b[0m\u001b[0m\n\u001b[0;32m    393\u001b[0m         \"\"\"\n\u001b[1;32m--> 394\u001b[1;33m         \u001b[1;32mreturn\u001b[0m \u001b[0mself\u001b[0m\u001b[1;33m.\u001b[0m\u001b[0mfind_element\u001b[0m\u001b[1;33m(\u001b[0m\u001b[0mby\u001b[0m\u001b[1;33m=\u001b[0m\u001b[0mBy\u001b[0m\u001b[1;33m.\u001b[0m\u001b[0mXPATH\u001b[0m\u001b[1;33m,\u001b[0m \u001b[0mvalue\u001b[0m\u001b[1;33m=\u001b[0m\u001b[0mxpath\u001b[0m\u001b[1;33m)\u001b[0m\u001b[1;33m\u001b[0m\u001b[1;33m\u001b[0m\u001b[0m\n\u001b[0m\u001b[0;32m    395\u001b[0m \u001b[1;33m\u001b[0m\u001b[0m\n\u001b[0;32m    396\u001b[0m     \u001b[1;32mdef\u001b[0m \u001b[0mfind_elements_by_xpath\u001b[0m\u001b[1;33m(\u001b[0m\u001b[0mself\u001b[0m\u001b[1;33m,\u001b[0m \u001b[0mxpath\u001b[0m\u001b[1;33m)\u001b[0m\u001b[1;33m:\u001b[0m\u001b[1;33m\u001b[0m\u001b[1;33m\u001b[0m\u001b[0m\n",
      "\u001b[1;32m~\\anaconda3\\lib\\site-packages\\selenium\\webdriver\\remote\\webdriver.py\u001b[0m in \u001b[0;36mfind_element\u001b[1;34m(self, by, value)\u001b[0m\n\u001b[0;32m    974\u001b[0m                 \u001b[0mby\u001b[0m \u001b[1;33m=\u001b[0m \u001b[0mBy\u001b[0m\u001b[1;33m.\u001b[0m\u001b[0mCSS_SELECTOR\u001b[0m\u001b[1;33m\u001b[0m\u001b[1;33m\u001b[0m\u001b[0m\n\u001b[0;32m    975\u001b[0m                 \u001b[0mvalue\u001b[0m \u001b[1;33m=\u001b[0m \u001b[1;34m'[name=\"%s\"]'\u001b[0m \u001b[1;33m%\u001b[0m \u001b[0mvalue\u001b[0m\u001b[1;33m\u001b[0m\u001b[1;33m\u001b[0m\u001b[0m\n\u001b[1;32m--> 976\u001b[1;33m         return self.execute(Command.FIND_ELEMENT, {\n\u001b[0m\u001b[0;32m    977\u001b[0m             \u001b[1;34m'using'\u001b[0m\u001b[1;33m:\u001b[0m \u001b[0mby\u001b[0m\u001b[1;33m,\u001b[0m\u001b[1;33m\u001b[0m\u001b[1;33m\u001b[0m\u001b[0m\n\u001b[0;32m    978\u001b[0m             'value': value})['value']\n",
      "\u001b[1;32m~\\anaconda3\\lib\\site-packages\\selenium\\webdriver\\remote\\webdriver.py\u001b[0m in \u001b[0;36mexecute\u001b[1;34m(self, driver_command, params)\u001b[0m\n\u001b[0;32m    319\u001b[0m         \u001b[0mresponse\u001b[0m \u001b[1;33m=\u001b[0m \u001b[0mself\u001b[0m\u001b[1;33m.\u001b[0m\u001b[0mcommand_executor\u001b[0m\u001b[1;33m.\u001b[0m\u001b[0mexecute\u001b[0m\u001b[1;33m(\u001b[0m\u001b[0mdriver_command\u001b[0m\u001b[1;33m,\u001b[0m \u001b[0mparams\u001b[0m\u001b[1;33m)\u001b[0m\u001b[1;33m\u001b[0m\u001b[1;33m\u001b[0m\u001b[0m\n\u001b[0;32m    320\u001b[0m         \u001b[1;32mif\u001b[0m \u001b[0mresponse\u001b[0m\u001b[1;33m:\u001b[0m\u001b[1;33m\u001b[0m\u001b[1;33m\u001b[0m\u001b[0m\n\u001b[1;32m--> 321\u001b[1;33m             \u001b[0mself\u001b[0m\u001b[1;33m.\u001b[0m\u001b[0merror_handler\u001b[0m\u001b[1;33m.\u001b[0m\u001b[0mcheck_response\u001b[0m\u001b[1;33m(\u001b[0m\u001b[0mresponse\u001b[0m\u001b[1;33m)\u001b[0m\u001b[1;33m\u001b[0m\u001b[1;33m\u001b[0m\u001b[0m\n\u001b[0m\u001b[0;32m    322\u001b[0m             response['value'] = self._unwrap_value(\n\u001b[0;32m    323\u001b[0m                 response.get('value', None))\n",
      "\u001b[1;32m~\\anaconda3\\lib\\site-packages\\selenium\\webdriver\\remote\\errorhandler.py\u001b[0m in \u001b[0;36mcheck_response\u001b[1;34m(self, response)\u001b[0m\n\u001b[0;32m    240\u001b[0m                 \u001b[0malert_text\u001b[0m \u001b[1;33m=\u001b[0m \u001b[0mvalue\u001b[0m\u001b[1;33m[\u001b[0m\u001b[1;34m'alert'\u001b[0m\u001b[1;33m]\u001b[0m\u001b[1;33m.\u001b[0m\u001b[0mget\u001b[0m\u001b[1;33m(\u001b[0m\u001b[1;34m'text'\u001b[0m\u001b[1;33m)\u001b[0m\u001b[1;33m\u001b[0m\u001b[1;33m\u001b[0m\u001b[0m\n\u001b[0;32m    241\u001b[0m             \u001b[1;32mraise\u001b[0m \u001b[0mexception_class\u001b[0m\u001b[1;33m(\u001b[0m\u001b[0mmessage\u001b[0m\u001b[1;33m,\u001b[0m \u001b[0mscreen\u001b[0m\u001b[1;33m,\u001b[0m \u001b[0mstacktrace\u001b[0m\u001b[1;33m,\u001b[0m \u001b[0malert_text\u001b[0m\u001b[1;33m)\u001b[0m\u001b[1;33m\u001b[0m\u001b[1;33m\u001b[0m\u001b[0m\n\u001b[1;32m--> 242\u001b[1;33m         \u001b[1;32mraise\u001b[0m \u001b[0mexception_class\u001b[0m\u001b[1;33m(\u001b[0m\u001b[0mmessage\u001b[0m\u001b[1;33m,\u001b[0m \u001b[0mscreen\u001b[0m\u001b[1;33m,\u001b[0m \u001b[0mstacktrace\u001b[0m\u001b[1;33m)\u001b[0m\u001b[1;33m\u001b[0m\u001b[1;33m\u001b[0m\u001b[0m\n\u001b[0m\u001b[0;32m    243\u001b[0m \u001b[1;33m\u001b[0m\u001b[0m\n\u001b[0;32m    244\u001b[0m     \u001b[1;32mdef\u001b[0m \u001b[0m_value_or_default\u001b[0m\u001b[1;33m(\u001b[0m\u001b[0mself\u001b[0m\u001b[1;33m,\u001b[0m \u001b[0mobj\u001b[0m\u001b[1;33m,\u001b[0m \u001b[0mkey\u001b[0m\u001b[1;33m,\u001b[0m \u001b[0mdefault\u001b[0m\u001b[1;33m)\u001b[0m\u001b[1;33m:\u001b[0m\u001b[1;33m\u001b[0m\u001b[1;33m\u001b[0m\u001b[0m\n",
      "\u001b[1;31mNoSuchElementException\u001b[0m: Message: no such element: Unable to locate element: {\"method\":\"xpath\",\"selector\":\"//*[@id='cm_cr-pagination_bar']/ul/li[2]/a\"}\n  (Session info: MicrosoftEdge=97.0.1072.55)\n"
     ]
    }
   ],
   "source": [
    "#all the comments and ratings on 10 pages are collected\n",
    "for i in rateurl:\n",
    "    driver.get(i)\n",
    "    for x in range(0,11):\n",
    "        time.sleep(3)\n",
    "        comment_tag = driver.find_elements_by_xpath(\"//span[@class='a-size-base review-text review-text-content']\")\n",
    "        rate_tag = driver.find_elements_by_xpath(\"//a[contains(@href,'/gp/customer-reviews/')]/i/span[1]\")\n",
    "        for k in comment_tag:\n",
    "            try:\n",
    "                cmnt.append(k.text.replace(\"\\n\",\" \"))\n",
    "            except:\n",
    "                cmnt.append(\"-\")\n",
    "        for r in rate_tag:\n",
    "            try:\n",
    "                rate.append(r.get_attribute(\"innerHTML\"))\n",
    "            except:\n",
    "                rate.append(\"-\")\n",
    "        nxtbtn = driver.find_element_by_xpath(\"//*[@id='cm_cr-pagination_bar']/ul/li[2]/a\")\n",
    "        nxtbtn.click()\n",
    "        except NoSuchElementException:\n",
    "            "
   ]
  },
  {
   "cell_type": "code",
   "execution_count": 39,
   "id": "6d6f68fc",
   "metadata": {},
   "outputs": [],
   "source": [
    "#removes the \"out of 5 stars\" text and stores only the numbers in the Rate list\n",
    "Rate=[]\n",
    "for r in rate:\n",
    "    Rate.append(r.replace(' out of 5 stars',''))"
   ]
  },
  {
   "cell_type": "code",
   "execution_count": 40,
   "id": "919735e9",
   "metadata": {},
   "outputs": [
    {
     "ename": "ValueError",
     "evalue": "arrays must all be same length",
     "output_type": "error",
     "traceback": [
      "\u001b[1;31m---------------------------------------------------------------------------\u001b[0m",
      "\u001b[1;31mValueError\u001b[0m                                Traceback (most recent call last)",
      "\u001b[1;32m<ipython-input-40-6408344967b1>\u001b[0m in \u001b[0;36m<module>\u001b[1;34m\u001b[0m\n\u001b[0;32m      2\u001b[0m \u001b[0mratingsdf\u001b[0m \u001b[1;33m=\u001b[0m \u001b[1;33m{\u001b[0m\u001b[1;34m'Comment'\u001b[0m\u001b[1;33m:\u001b[0m\u001b[0mcmt\u001b[0m\u001b[1;33m,\u001b[0m\u001b[1;34m'Rating'\u001b[0m\u001b[1;33m:\u001b[0m\u001b[0mRate\u001b[0m\u001b[1;33m}\u001b[0m\u001b[1;33m\u001b[0m\u001b[1;33m\u001b[0m\u001b[0m\n\u001b[0;32m      3\u001b[0m \u001b[1;33m\u001b[0m\u001b[0m\n\u001b[1;32m----> 4\u001b[1;33m \u001b[0mRatedf1\u001b[0m  \u001b[1;33m=\u001b[0m \u001b[0mpd\u001b[0m\u001b[1;33m.\u001b[0m\u001b[0mDataFrame\u001b[0m\u001b[1;33m(\u001b[0m\u001b[0mratingsdf\u001b[0m\u001b[1;33m)\u001b[0m\u001b[1;33m\u001b[0m\u001b[1;33m\u001b[0m\u001b[0m\n\u001b[0m",
      "\u001b[1;32m~\\anaconda3\\lib\\site-packages\\pandas\\core\\frame.py\u001b[0m in \u001b[0;36m__init__\u001b[1;34m(self, data, index, columns, dtype, copy)\u001b[0m\n\u001b[0;32m    527\u001b[0m \u001b[1;33m\u001b[0m\u001b[0m\n\u001b[0;32m    528\u001b[0m         \u001b[1;32melif\u001b[0m \u001b[0misinstance\u001b[0m\u001b[1;33m(\u001b[0m\u001b[0mdata\u001b[0m\u001b[1;33m,\u001b[0m \u001b[0mdict\u001b[0m\u001b[1;33m)\u001b[0m\u001b[1;33m:\u001b[0m\u001b[1;33m\u001b[0m\u001b[1;33m\u001b[0m\u001b[0m\n\u001b[1;32m--> 529\u001b[1;33m             \u001b[0mmgr\u001b[0m \u001b[1;33m=\u001b[0m \u001b[0minit_dict\u001b[0m\u001b[1;33m(\u001b[0m\u001b[0mdata\u001b[0m\u001b[1;33m,\u001b[0m \u001b[0mindex\u001b[0m\u001b[1;33m,\u001b[0m \u001b[0mcolumns\u001b[0m\u001b[1;33m,\u001b[0m \u001b[0mdtype\u001b[0m\u001b[1;33m=\u001b[0m\u001b[0mdtype\u001b[0m\u001b[1;33m)\u001b[0m\u001b[1;33m\u001b[0m\u001b[1;33m\u001b[0m\u001b[0m\n\u001b[0m\u001b[0;32m    530\u001b[0m         \u001b[1;32melif\u001b[0m \u001b[0misinstance\u001b[0m\u001b[1;33m(\u001b[0m\u001b[0mdata\u001b[0m\u001b[1;33m,\u001b[0m \u001b[0mma\u001b[0m\u001b[1;33m.\u001b[0m\u001b[0mMaskedArray\u001b[0m\u001b[1;33m)\u001b[0m\u001b[1;33m:\u001b[0m\u001b[1;33m\u001b[0m\u001b[1;33m\u001b[0m\u001b[0m\n\u001b[0;32m    531\u001b[0m             \u001b[1;32mimport\u001b[0m \u001b[0mnumpy\u001b[0m\u001b[1;33m.\u001b[0m\u001b[0mma\u001b[0m\u001b[1;33m.\u001b[0m\u001b[0mmrecords\u001b[0m \u001b[1;32mas\u001b[0m \u001b[0mmrecords\u001b[0m\u001b[1;33m\u001b[0m\u001b[1;33m\u001b[0m\u001b[0m\n",
      "\u001b[1;32m~\\anaconda3\\lib\\site-packages\\pandas\\core\\internals\\construction.py\u001b[0m in \u001b[0;36minit_dict\u001b[1;34m(data, index, columns, dtype)\u001b[0m\n\u001b[0;32m    285\u001b[0m             \u001b[0marr\u001b[0m \u001b[1;32mif\u001b[0m \u001b[1;32mnot\u001b[0m \u001b[0mis_datetime64tz_dtype\u001b[0m\u001b[1;33m(\u001b[0m\u001b[0marr\u001b[0m\u001b[1;33m)\u001b[0m \u001b[1;32melse\u001b[0m \u001b[0marr\u001b[0m\u001b[1;33m.\u001b[0m\u001b[0mcopy\u001b[0m\u001b[1;33m(\u001b[0m\u001b[1;33m)\u001b[0m \u001b[1;32mfor\u001b[0m \u001b[0marr\u001b[0m \u001b[1;32min\u001b[0m \u001b[0marrays\u001b[0m\u001b[1;33m\u001b[0m\u001b[1;33m\u001b[0m\u001b[0m\n\u001b[0;32m    286\u001b[0m         ]\n\u001b[1;32m--> 287\u001b[1;33m     \u001b[1;32mreturn\u001b[0m \u001b[0marrays_to_mgr\u001b[0m\u001b[1;33m(\u001b[0m\u001b[0marrays\u001b[0m\u001b[1;33m,\u001b[0m \u001b[0mdata_names\u001b[0m\u001b[1;33m,\u001b[0m \u001b[0mindex\u001b[0m\u001b[1;33m,\u001b[0m \u001b[0mcolumns\u001b[0m\u001b[1;33m,\u001b[0m \u001b[0mdtype\u001b[0m\u001b[1;33m=\u001b[0m\u001b[0mdtype\u001b[0m\u001b[1;33m)\u001b[0m\u001b[1;33m\u001b[0m\u001b[1;33m\u001b[0m\u001b[0m\n\u001b[0m\u001b[0;32m    288\u001b[0m \u001b[1;33m\u001b[0m\u001b[0m\n\u001b[0;32m    289\u001b[0m \u001b[1;33m\u001b[0m\u001b[0m\n",
      "\u001b[1;32m~\\anaconda3\\lib\\site-packages\\pandas\\core\\internals\\construction.py\u001b[0m in \u001b[0;36marrays_to_mgr\u001b[1;34m(arrays, arr_names, index, columns, dtype, verify_integrity)\u001b[0m\n\u001b[0;32m     78\u001b[0m         \u001b[1;31m# figure out the index, if necessary\u001b[0m\u001b[1;33m\u001b[0m\u001b[1;33m\u001b[0m\u001b[1;33m\u001b[0m\u001b[0m\n\u001b[0;32m     79\u001b[0m         \u001b[1;32mif\u001b[0m \u001b[0mindex\u001b[0m \u001b[1;32mis\u001b[0m \u001b[1;32mNone\u001b[0m\u001b[1;33m:\u001b[0m\u001b[1;33m\u001b[0m\u001b[1;33m\u001b[0m\u001b[0m\n\u001b[1;32m---> 80\u001b[1;33m             \u001b[0mindex\u001b[0m \u001b[1;33m=\u001b[0m \u001b[0mextract_index\u001b[0m\u001b[1;33m(\u001b[0m\u001b[0marrays\u001b[0m\u001b[1;33m)\u001b[0m\u001b[1;33m\u001b[0m\u001b[1;33m\u001b[0m\u001b[0m\n\u001b[0m\u001b[0;32m     81\u001b[0m         \u001b[1;32melse\u001b[0m\u001b[1;33m:\u001b[0m\u001b[1;33m\u001b[0m\u001b[1;33m\u001b[0m\u001b[0m\n\u001b[0;32m     82\u001b[0m             \u001b[0mindex\u001b[0m \u001b[1;33m=\u001b[0m \u001b[0mensure_index\u001b[0m\u001b[1;33m(\u001b[0m\u001b[0mindex\u001b[0m\u001b[1;33m)\u001b[0m\u001b[1;33m\u001b[0m\u001b[1;33m\u001b[0m\u001b[0m\n",
      "\u001b[1;32m~\\anaconda3\\lib\\site-packages\\pandas\\core\\internals\\construction.py\u001b[0m in \u001b[0;36mextract_index\u001b[1;34m(data)\u001b[0m\n\u001b[0;32m    399\u001b[0m             \u001b[0mlengths\u001b[0m \u001b[1;33m=\u001b[0m \u001b[0mlist\u001b[0m\u001b[1;33m(\u001b[0m\u001b[0mset\u001b[0m\u001b[1;33m(\u001b[0m\u001b[0mraw_lengths\u001b[0m\u001b[1;33m)\u001b[0m\u001b[1;33m)\u001b[0m\u001b[1;33m\u001b[0m\u001b[1;33m\u001b[0m\u001b[0m\n\u001b[0;32m    400\u001b[0m             \u001b[1;32mif\u001b[0m \u001b[0mlen\u001b[0m\u001b[1;33m(\u001b[0m\u001b[0mlengths\u001b[0m\u001b[1;33m)\u001b[0m \u001b[1;33m>\u001b[0m \u001b[1;36m1\u001b[0m\u001b[1;33m:\u001b[0m\u001b[1;33m\u001b[0m\u001b[1;33m\u001b[0m\u001b[0m\n\u001b[1;32m--> 401\u001b[1;33m                 \u001b[1;32mraise\u001b[0m \u001b[0mValueError\u001b[0m\u001b[1;33m(\u001b[0m\u001b[1;34m\"arrays must all be same length\"\u001b[0m\u001b[1;33m)\u001b[0m\u001b[1;33m\u001b[0m\u001b[1;33m\u001b[0m\u001b[0m\n\u001b[0m\u001b[0;32m    402\u001b[0m \u001b[1;33m\u001b[0m\u001b[0m\n\u001b[0;32m    403\u001b[0m             \u001b[1;32mif\u001b[0m \u001b[0mhave_dicts\u001b[0m\u001b[1;33m:\u001b[0m\u001b[1;33m\u001b[0m\u001b[1;33m\u001b[0m\u001b[0m\n",
      "\u001b[1;31mValueError\u001b[0m: arrays must all be same length"
     ]
    }
   ],
   "source": [
    "#creating a dataframe to store the comments and ratings\n",
    "ratingsdf = {'Comment':cmt,'Rating':Rate}\n",
    "\n",
    "Ratedf1  = pd.DataFrame(ratingsdf)"
   ]
  },
  {
   "cell_type": "code",
   "execution_count": 41,
   "id": "51d0e332",
   "metadata": {},
   "outputs": [
    {
     "data": {
      "text/html": [
       "<div>\n",
       "<style scoped>\n",
       "    .dataframe tbody tr th:only-of-type {\n",
       "        vertical-align: middle;\n",
       "    }\n",
       "\n",
       "    .dataframe tbody tr th {\n",
       "        vertical-align: top;\n",
       "    }\n",
       "\n",
       "    .dataframe thead th {\n",
       "        text-align: right;\n",
       "    }\n",
       "</style>\n",
       "<table border=\"1\" class=\"dataframe\">\n",
       "  <thead>\n",
       "    <tr style=\"text-align: right;\">\n",
       "      <th></th>\n",
       "      <th>Comment</th>\n",
       "      <th>Rating</th>\n",
       "    </tr>\n",
       "  </thead>\n",
       "  <tbody>\n",
       "  </tbody>\n",
       "</table>\n",
       "</div>"
      ],
      "text/plain": [
       "Empty DataFrame\n",
       "Columns: [Comment, Rating]\n",
       "Index: []"
      ]
     },
     "execution_count": 41,
     "metadata": {},
     "output_type": "execute_result"
    }
   ],
   "source": [
    "Ratedf1"
   ]
  },
  {
   "cell_type": "markdown",
   "id": "d8e4f485",
   "metadata": {},
   "source": [
    "#### Collecting Reviews and Comments for Laptops"
   ]
  },
  {
   "cell_type": "code",
   "execution_count": 16,
   "id": "af2c0a63",
   "metadata": {},
   "outputs": [],
   "source": [
    "url =  'https://www.amazon.in/'\n",
    "driver = webdriver.Edge(\"msedgedriver.exe\")\n",
    "driver.get(url)\n"
   ]
  },
  {
   "cell_type": "code",
   "execution_count": 17,
   "id": "4f1aefce",
   "metadata": {},
   "outputs": [],
   "source": [
    "search = driver.find_element_by_xpath('/html/body/div[1]/header/div/div[1]/div[2]/div/form/div[2]/div[1]/input')\n",
    "search.send_keys(\"laptops\")\n",
    "search = driver.find_element_by_xpath('/html/body/div[1]/header/div/div[1]/div[2]/div/form/div[3]/div/span/input')\n",
    "search.click()\n"
   ]
  },
  {
   "cell_type": "code",
   "execution_count": 18,
   "id": "c98bd4f9",
   "metadata": {},
   "outputs": [],
   "source": [
    "produrl =[]\n",
    "produrl_tag = driver.find_elements_by_xpath(\"//a[@class='a-link-normal s-link-style a-text-normal']\")"
   ]
  },
  {
   "cell_type": "code",
   "execution_count": 19,
   "id": "e1797710",
   "metadata": {},
   "outputs": [],
   "source": [
    "for u in produrl_tag:\n",
    " try: \n",
    "     produrl.append(u.get_attribute(\"href\"))\n",
    " except:\n",
    "    produrl.append('-')"
   ]
  },
  {
   "cell_type": "code",
   "execution_count": 20,
   "id": "a01098e5",
   "metadata": {},
   "outputs": [],
   "source": [
    "rateurl = []"
   ]
  },
  {
   "cell_type": "code",
   "execution_count": 21,
   "id": "68cfa5f8",
   "metadata": {},
   "outputs": [
    {
     "ename": "NoSuchElementException",
     "evalue": "Message: no such element: Unable to locate element: {\"method\":\"xpath\",\"selector\":\"//a[@class='a-link-normal 3star']\"}\n  (Session info: MicrosoftEdge=97.0.1072.55)\n",
     "output_type": "error",
     "traceback": [
      "\u001b[1;31m---------------------------------------------------------------------------\u001b[0m",
      "\u001b[1;31mNoSuchElementException\u001b[0m                    Traceback (most recent call last)",
      "\u001b[1;32m<ipython-input-21-c85dbe1ff0ab>\u001b[0m in \u001b[0;36m<module>\u001b[1;34m\u001b[0m\n\u001b[0;32m      4\u001b[0m     \u001b[0murl_tag5\u001b[0m \u001b[1;33m=\u001b[0m \u001b[0mdriver\u001b[0m\u001b[1;33m.\u001b[0m\u001b[0mfind_element_by_xpath\u001b[0m\u001b[1;33m(\u001b[0m\u001b[1;34m\"//a[@class='a-link-normal 5star']\"\u001b[0m\u001b[1;33m)\u001b[0m\u001b[1;33m\u001b[0m\u001b[1;33m\u001b[0m\u001b[0m\n\u001b[0;32m      5\u001b[0m     \u001b[0murl_tag4\u001b[0m \u001b[1;33m=\u001b[0m \u001b[0mdriver\u001b[0m\u001b[1;33m.\u001b[0m\u001b[0mfind_element_by_xpath\u001b[0m\u001b[1;33m(\u001b[0m\u001b[1;34m\"//a[@class='a-link-normal 4star']\"\u001b[0m\u001b[1;33m)\u001b[0m\u001b[1;33m\u001b[0m\u001b[1;33m\u001b[0m\u001b[0m\n\u001b[1;32m----> 6\u001b[1;33m     \u001b[0murl_tag3\u001b[0m \u001b[1;33m=\u001b[0m \u001b[0mdriver\u001b[0m\u001b[1;33m.\u001b[0m\u001b[0mfind_element_by_xpath\u001b[0m\u001b[1;33m(\u001b[0m\u001b[1;34m\"//a[@class='a-link-normal 3star']\"\u001b[0m\u001b[1;33m)\u001b[0m\u001b[1;33m\u001b[0m\u001b[1;33m\u001b[0m\u001b[0m\n\u001b[0m\u001b[0;32m      7\u001b[0m     \u001b[0murl_tag2\u001b[0m \u001b[1;33m=\u001b[0m \u001b[0mdriver\u001b[0m\u001b[1;33m.\u001b[0m\u001b[0mfind_element_by_xpath\u001b[0m\u001b[1;33m(\u001b[0m\u001b[1;34m\"//a[@class='a-link-normal 2star']\"\u001b[0m\u001b[1;33m)\u001b[0m\u001b[1;33m\u001b[0m\u001b[1;33m\u001b[0m\u001b[0m\n\u001b[0;32m      8\u001b[0m     \u001b[0murl_tag1\u001b[0m \u001b[1;33m=\u001b[0m \u001b[0mdriver\u001b[0m\u001b[1;33m.\u001b[0m\u001b[0mfind_element_by_xpath\u001b[0m\u001b[1;33m(\u001b[0m\u001b[1;34m\"//a[@class='a-link-normal 1star']\"\u001b[0m\u001b[1;33m)\u001b[0m\u001b[1;33m\u001b[0m\u001b[1;33m\u001b[0m\u001b[0m\n",
      "\u001b[1;32m~\\anaconda3\\lib\\site-packages\\selenium\\webdriver\\remote\\webdriver.py\u001b[0m in \u001b[0;36mfind_element_by_xpath\u001b[1;34m(self, xpath)\u001b[0m\n\u001b[0;32m    392\u001b[0m             \u001b[0melement\u001b[0m \u001b[1;33m=\u001b[0m \u001b[0mdriver\u001b[0m\u001b[1;33m.\u001b[0m\u001b[0mfind_element_by_xpath\u001b[0m\u001b[1;33m(\u001b[0m\u001b[1;34m'//div/td[1]'\u001b[0m\u001b[1;33m)\u001b[0m\u001b[1;33m\u001b[0m\u001b[1;33m\u001b[0m\u001b[0m\n\u001b[0;32m    393\u001b[0m         \"\"\"\n\u001b[1;32m--> 394\u001b[1;33m         \u001b[1;32mreturn\u001b[0m \u001b[0mself\u001b[0m\u001b[1;33m.\u001b[0m\u001b[0mfind_element\u001b[0m\u001b[1;33m(\u001b[0m\u001b[0mby\u001b[0m\u001b[1;33m=\u001b[0m\u001b[0mBy\u001b[0m\u001b[1;33m.\u001b[0m\u001b[0mXPATH\u001b[0m\u001b[1;33m,\u001b[0m \u001b[0mvalue\u001b[0m\u001b[1;33m=\u001b[0m\u001b[0mxpath\u001b[0m\u001b[1;33m)\u001b[0m\u001b[1;33m\u001b[0m\u001b[1;33m\u001b[0m\u001b[0m\n\u001b[0m\u001b[0;32m    395\u001b[0m \u001b[1;33m\u001b[0m\u001b[0m\n\u001b[0;32m    396\u001b[0m     \u001b[1;32mdef\u001b[0m \u001b[0mfind_elements_by_xpath\u001b[0m\u001b[1;33m(\u001b[0m\u001b[0mself\u001b[0m\u001b[1;33m,\u001b[0m \u001b[0mxpath\u001b[0m\u001b[1;33m)\u001b[0m\u001b[1;33m:\u001b[0m\u001b[1;33m\u001b[0m\u001b[1;33m\u001b[0m\u001b[0m\n",
      "\u001b[1;32m~\\anaconda3\\lib\\site-packages\\selenium\\webdriver\\remote\\webdriver.py\u001b[0m in \u001b[0;36mfind_element\u001b[1;34m(self, by, value)\u001b[0m\n\u001b[0;32m    974\u001b[0m                 \u001b[0mby\u001b[0m \u001b[1;33m=\u001b[0m \u001b[0mBy\u001b[0m\u001b[1;33m.\u001b[0m\u001b[0mCSS_SELECTOR\u001b[0m\u001b[1;33m\u001b[0m\u001b[1;33m\u001b[0m\u001b[0m\n\u001b[0;32m    975\u001b[0m                 \u001b[0mvalue\u001b[0m \u001b[1;33m=\u001b[0m \u001b[1;34m'[name=\"%s\"]'\u001b[0m \u001b[1;33m%\u001b[0m \u001b[0mvalue\u001b[0m\u001b[1;33m\u001b[0m\u001b[1;33m\u001b[0m\u001b[0m\n\u001b[1;32m--> 976\u001b[1;33m         return self.execute(Command.FIND_ELEMENT, {\n\u001b[0m\u001b[0;32m    977\u001b[0m             \u001b[1;34m'using'\u001b[0m\u001b[1;33m:\u001b[0m \u001b[0mby\u001b[0m\u001b[1;33m,\u001b[0m\u001b[1;33m\u001b[0m\u001b[1;33m\u001b[0m\u001b[0m\n\u001b[0;32m    978\u001b[0m             'value': value})['value']\n",
      "\u001b[1;32m~\\anaconda3\\lib\\site-packages\\selenium\\webdriver\\remote\\webdriver.py\u001b[0m in \u001b[0;36mexecute\u001b[1;34m(self, driver_command, params)\u001b[0m\n\u001b[0;32m    319\u001b[0m         \u001b[0mresponse\u001b[0m \u001b[1;33m=\u001b[0m \u001b[0mself\u001b[0m\u001b[1;33m.\u001b[0m\u001b[0mcommand_executor\u001b[0m\u001b[1;33m.\u001b[0m\u001b[0mexecute\u001b[0m\u001b[1;33m(\u001b[0m\u001b[0mdriver_command\u001b[0m\u001b[1;33m,\u001b[0m \u001b[0mparams\u001b[0m\u001b[1;33m)\u001b[0m\u001b[1;33m\u001b[0m\u001b[1;33m\u001b[0m\u001b[0m\n\u001b[0;32m    320\u001b[0m         \u001b[1;32mif\u001b[0m \u001b[0mresponse\u001b[0m\u001b[1;33m:\u001b[0m\u001b[1;33m\u001b[0m\u001b[1;33m\u001b[0m\u001b[0m\n\u001b[1;32m--> 321\u001b[1;33m             \u001b[0mself\u001b[0m\u001b[1;33m.\u001b[0m\u001b[0merror_handler\u001b[0m\u001b[1;33m.\u001b[0m\u001b[0mcheck_response\u001b[0m\u001b[1;33m(\u001b[0m\u001b[0mresponse\u001b[0m\u001b[1;33m)\u001b[0m\u001b[1;33m\u001b[0m\u001b[1;33m\u001b[0m\u001b[0m\n\u001b[0m\u001b[0;32m    322\u001b[0m             response['value'] = self._unwrap_value(\n\u001b[0;32m    323\u001b[0m                 response.get('value', None))\n",
      "\u001b[1;32m~\\anaconda3\\lib\\site-packages\\selenium\\webdriver\\remote\\errorhandler.py\u001b[0m in \u001b[0;36mcheck_response\u001b[1;34m(self, response)\u001b[0m\n\u001b[0;32m    240\u001b[0m                 \u001b[0malert_text\u001b[0m \u001b[1;33m=\u001b[0m \u001b[0mvalue\u001b[0m\u001b[1;33m[\u001b[0m\u001b[1;34m'alert'\u001b[0m\u001b[1;33m]\u001b[0m\u001b[1;33m.\u001b[0m\u001b[0mget\u001b[0m\u001b[1;33m(\u001b[0m\u001b[1;34m'text'\u001b[0m\u001b[1;33m)\u001b[0m\u001b[1;33m\u001b[0m\u001b[1;33m\u001b[0m\u001b[0m\n\u001b[0;32m    241\u001b[0m             \u001b[1;32mraise\u001b[0m \u001b[0mexception_class\u001b[0m\u001b[1;33m(\u001b[0m\u001b[0mmessage\u001b[0m\u001b[1;33m,\u001b[0m \u001b[0mscreen\u001b[0m\u001b[1;33m,\u001b[0m \u001b[0mstacktrace\u001b[0m\u001b[1;33m,\u001b[0m \u001b[0malert_text\u001b[0m\u001b[1;33m)\u001b[0m\u001b[1;33m\u001b[0m\u001b[1;33m\u001b[0m\u001b[0m\n\u001b[1;32m--> 242\u001b[1;33m         \u001b[1;32mraise\u001b[0m \u001b[0mexception_class\u001b[0m\u001b[1;33m(\u001b[0m\u001b[0mmessage\u001b[0m\u001b[1;33m,\u001b[0m \u001b[0mscreen\u001b[0m\u001b[1;33m,\u001b[0m \u001b[0mstacktrace\u001b[0m\u001b[1;33m)\u001b[0m\u001b[1;33m\u001b[0m\u001b[1;33m\u001b[0m\u001b[0m\n\u001b[0m\u001b[0;32m    243\u001b[0m \u001b[1;33m\u001b[0m\u001b[0m\n\u001b[0;32m    244\u001b[0m     \u001b[1;32mdef\u001b[0m \u001b[0m_value_or_default\u001b[0m\u001b[1;33m(\u001b[0m\u001b[0mself\u001b[0m\u001b[1;33m,\u001b[0m \u001b[0mobj\u001b[0m\u001b[1;33m,\u001b[0m \u001b[0mkey\u001b[0m\u001b[1;33m,\u001b[0m \u001b[0mdefault\u001b[0m\u001b[1;33m)\u001b[0m\u001b[1;33m:\u001b[0m\u001b[1;33m\u001b[0m\u001b[1;33m\u001b[0m\u001b[0m\n",
      "\u001b[1;31mNoSuchElementException\u001b[0m: Message: no such element: Unable to locate element: {\"method\":\"xpath\",\"selector\":\"//a[@class='a-link-normal 3star']\"}\n  (Session info: MicrosoftEdge=97.0.1072.55)\n"
     ]
    }
   ],
   "source": [
    "for i in produrl:\n",
    "    driver.get(i)\n",
    "    time.sleep(3)\n",
    "    url_tag5 = driver.find_element_by_xpath(\"//a[@class='a-link-normal 5star']\")\n",
    "    url_tag4 = driver.find_element_by_xpath(\"//a[@class='a-link-normal 4star']\")\n",
    "    url_tag3 = driver.find_element_by_xpath(\"//a[@class='a-link-normal 3star']\")\n",
    "    url_tag2 = driver.find_element_by_xpath(\"//a[@class='a-link-normal 2star']\")\n",
    "    url_tag1 = driver.find_element_by_xpath(\"//a[@class='a-link-normal 1star']\")\n",
    "    rateurl.append(url_tag5.get_attribute(\"href\"))\n",
    "    rateurl.append(url_tag4.get_attribute(\"href\"))\n",
    "    rateurl.append(url_tag3.get_attribute(\"href\"))\n",
    "    rateurl.append(url_tag2.get_attribute(\"href\"))\n",
    "    rateurl.append(url_tag1.get_attribute(\"href\"))\n",
    "    \n"
   ]
  },
  {
   "cell_type": "code",
   "execution_count": null,
   "id": "a92adede",
   "metadata": {},
   "outputs": [],
   "source": [
    "review = []\n",
    "rating = []\n"
   ]
  },
  {
   "cell_type": "code",
   "execution_count": null,
   "id": "22aca970",
   "metadata": {},
   "outputs": [],
   "source": [
    "for i in rateurl:\n",
    "    driver.get(i)\n",
    "    for x in range(0,1):\n",
    "        time.sleep(3)\n",
    "        comment_tag = driver.find_elements_by_xpath(\"//span[@class='a-size-base review-text review-text-content']\")\n",
    "        rate_tag = driver.find_elements_by_xpath(\"//a[contains(@href,'/gp/customer-reviews/')]/i/span[1]\")\n",
    "        for k in comment_tag:\n",
    "            try:\n",
    "                cmt.append(k.text.replace(\"\\n\",\" \"))\n",
    "            except:\n",
    "                cmt.append(\"-\")\n",
    "        for r in rate_tag:\n",
    "            try:\n",
    "                rate.append(r.get_attribute(\"innerHTML\"))\n",
    "            except:\n",
    "                rate.append(\"-\")\n",
    "        \n",
    "        "
   ]
  },
  {
   "cell_type": "code",
   "execution_count": null,
   "id": "136fd9a5",
   "metadata": {},
   "outputs": [],
   "source": [
    "Rate=[]\n",
    "for r in rate:\n",
    "    Rate.append(r.replace(' out of 5 stars',''))"
   ]
  },
  {
   "cell_type": "code",
   "execution_count": null,
   "id": "1135d833",
   "metadata": {},
   "outputs": [],
   "source": [
    "ratingsdf2 = {'Comment':cmt,'Rating':Rate}\n",
    "\n",
    "Ratedf2  = pd.DataFrame(ratingsdf2)"
   ]
  },
  {
   "cell_type": "code",
   "execution_count": null,
   "id": "31a69017",
   "metadata": {},
   "outputs": [],
   "source": [
    "Ratedf2"
   ]
  },
  {
   "cell_type": "markdown",
   "id": "63397e27",
   "metadata": {},
   "source": [
    "#### Collecting Reviews and Comments for earphones"
   ]
  },
  {
   "cell_type": "code",
   "execution_count": null,
   "id": "c9ceaa68",
   "metadata": {},
   "outputs": [],
   "source": [
    "search = driver.find_element_by_xpath('/html/body/div[1]/header/div/div[1]/div[2]/div/form/div[2]/div[1]/input')\n",
    "search.send_keys(\"earphones\")\n",
    "search = driver.find_element_by_xpath('/html/body/div[1]/header/div/div[1]/div[2]/div/form/div[3]/div/span/input')\n",
    "search.click()\n"
   ]
  },
  {
   "cell_type": "code",
   "execution_count": null,
   "id": "1702936c",
   "metadata": {},
   "outputs": [],
   "source": [
    "produrl =[]"
   ]
  },
  {
   "cell_type": "code",
   "execution_count": null,
   "id": "01e89aa2",
   "metadata": {},
   "outputs": [],
   "source": [
    "produrl_tag = driver.find_elements_by_xpath(\"//a[@class='a-link-normal s-link-style a-text-normal']\")"
   ]
  },
  {
   "cell_type": "code",
   "execution_count": null,
   "id": "b6dfe059",
   "metadata": {},
   "outputs": [],
   "source": [
    "for u in produrl_tag:\n",
    " try: \n",
    "     produrl.append(u.get_attribute(\"href\"))\n",
    " except:\n",
    "    produrl.append('-')"
   ]
  },
  {
   "cell_type": "code",
   "execution_count": null,
   "id": "be7c1882",
   "metadata": {},
   "outputs": [],
   "source": [
    "rateurl = []\n",
    "cmt = []\n",
    "rate = []"
   ]
  },
  {
   "cell_type": "code",
   "execution_count": null,
   "id": "ba330087",
   "metadata": {},
   "outputs": [],
   "source": [
    "for i in produrl:\n",
    "    driver.get(i)\n",
    "    time.sleep(3)\n",
    "    url_tag5 = driver.find_element_by_xpath(\"//a[@class='a-link-normal 5star']\")\n",
    "    url_tag4 = driver.find_element_by_xpath(\"//a[@class='a-link-normal 4star']\")\n",
    "    url_tag3 = driver.find_element_by_xpath(\"//a[@class='a-link-normal 3star']\")\n",
    "    url_tag2 = driver.find_element_by_xpath(\"//a[@class='a-link-normal 2star']\")\n",
    "    url_tag1 = driver.find_element_by_xpath(\"//a[@class='a-link-normal 1star']\")\n",
    "    rateurl.append(url_tag5.get_attribute(\"href\"))\n",
    "    rateurl.append(url_tag4.get_attribute(\"href\"))\n",
    "    rateurl.append(url_tag3.get_attribute(\"href\"))\n",
    "    rateurl.append(url_tag2.get_attribute(\"href\"))\n",
    "    rateurl.append(url_tag1.get_attribute(\"href\"))\n",
    "    \n",
    "\n",
    "for i in rateurl:\n",
    "    driver.get(i)\n",
    "    for x in range(0,11):\n",
    "        time.sleep(3)\n",
    "        comment_tag = driver.find_elements_by_xpath(\"//span[@class='a-size-base review-text review-text-content']\")\n",
    "        rate_tag = driver.find_elements_by_xpath(\"//a[contains(@href,'/gp/customer-reviews/')]/i/span[1]\")\n",
    "        for k in comment_tag:\n",
    "            try:\n",
    "                cmt.append(k.text.replace(\"\\n\",\" \"))\n",
    "            except:\n",
    "                cmt.append(\"-\")\n",
    "        for r in rate_tag:\n",
    "            try:\n",
    "                rate.append(r.get_attribute(\"innerHTML\"))\n",
    "            except:\n",
    "                rate.append(\"-\")\n",
    "        nxtbtn = driver.find_element_by_xpath(\"//*[@id='cm_cr-pagination_bar']/ul/li[2]/a\")\n",
    "        nxtbtn.click()    \n"
   ]
  },
  {
   "cell_type": "code",
   "execution_count": null,
   "id": "5bfd5a94",
   "metadata": {},
   "outputs": [],
   "source": [
    "Rate=[]\n",
    "for r in rate:\n",
    "    Rate.append(r.replace(' out of 5 stars',''))"
   ]
  },
  {
   "cell_type": "code",
   "execution_count": null,
   "id": "6d8dc87d",
   "metadata": {},
   "outputs": [],
   "source": [
    "ratingsdf3 = {'Comment':cmt,'Rating':Rate}\n",
    "\n",
    "Ratedf3  = pd.DataFrame(ratingsdf3)"
   ]
  },
  {
   "cell_type": "code",
   "execution_count": null,
   "id": "86f55098",
   "metadata": {},
   "outputs": [],
   "source": [
    "Ratedf3"
   ]
  },
  {
   "cell_type": "code",
   "execution_count": null,
   "id": "9426e24d",
   "metadata": {},
   "outputs": [],
   "source": [
    "AmaznData = pd.concat([Ratedf1,Ratedf2,Ratedf3],ignore_index=True) #concatenating the 3 dataframes into a single dataframe"
   ]
  },
  {
   "cell_type": "code",
   "execution_count": null,
   "id": "60d8496d",
   "metadata": {},
   "outputs": [],
   "source": [
    "AmaznData"
   ]
  },
  {
   "cell_type": "markdown",
   "id": "87fa41af",
   "metadata": {},
   "source": [
    "### Flipkart.com"
   ]
  },
  {
   "cell_type": "code",
   "execution_count": null,
   "id": "ae24157b",
   "metadata": {},
   "outputs": [],
   "source": [
    "#driver loads www.flipkart.com\n",
    "url =  'https://www.flipkart.com/'\n",
    "driver = webdriver.Edge(\"msedgedriver.exe\")\n",
    "driver.get(url)\n"
   ]
  },
  {
   "cell_type": "code",
   "execution_count": null,
   "id": "b22ccf25",
   "metadata": {},
   "outputs": [],
   "source": [
    "#searching for \"Smartphone\"\n",
    "search = driver.find_element_by_xpath('/html/body/div/div/div[1]/div[1]/div[2]/div[2]/form/div/div/input')\n",
    "search.send_keys('Smartphone')\n",
    "searchbtn = driver.find_element_by_class_name('L0Z3Pu')\n",
    "searchbtn.click()\n"
   ]
  },
  {
   "cell_type": "code",
   "execution_count": null,
   "id": "9763eb15",
   "metadata": {},
   "outputs": [],
   "source": [
    "#empty list for stoing all URLs of smartphone products\n",
    "produrl = []"
   ]
  },
  {
   "cell_type": "code",
   "execution_count": null,
   "id": "927b81bf",
   "metadata": {},
   "outputs": [],
   "source": [
    "#the url of each smartphone is appended to the the list\n",
    "produrl_tag = driver.find_elements_by_xpath(\"//a[@class='_1fQZEK']\")\n",
    "for u in produrl_tag:\n",
    "     produrl.append(u.get_attribute(\"href\"))"
   ]
  },
  {
   "cell_type": "code",
   "execution_count": null,
   "id": "c3d79c53",
   "metadata": {},
   "outputs": [],
   "source": [
    "revurl=[] # an empty list to store all the urls of the review section of the products"
   ]
  },
  {
   "cell_type": "code",
   "execution_count": null,
   "id": "33976ebf",
   "metadata": {},
   "outputs": [],
   "source": [
    "#the url of review section of each product is appended to the the list\n",
    "for i in produrl:\n",
    "    driver.get(i)\n",
    "    time.sleep(1)\n",
    "    rev_tag = driver.find_element_by_xpath(\"//*[@class='col JOpGWq']/a\")\n",
    "    revurl.append(rev_tag.get_attribute(\"href\"))\n",
    "    "
   ]
  },
  {
   "cell_type": "code",
   "execution_count": null,
   "id": "b0da09d1",
   "metadata": {},
   "outputs": [],
   "source": [
    "cmt = [] # an empty list to store all of the comment\n",
    "rate = [] # an empty list to store all the ratings\n",
    "revpgurl=[] # an empty list to store all the urls of the pages containing reviews"
   ]
  },
  {
   "cell_type": "code",
   "execution_count": null,
   "id": "b7b406fe",
   "metadata": {},
   "outputs": [],
   "source": [
    "#the url of each comment page is appended to the the list\n",
    "for i in revurl:\n",
    "    driver.get(i)\n",
    "    time.sleep(2)\n",
    "    \n",
    "              \n",
    "    revpg=driver.find_elements_by_xpath(\"//a[@class='ge-49M']\")\n",
    "    for n in revpg:\n",
    "        revpgurl.append(n.get_attribute(\"href\"))\n",
    "    "
   ]
  },
  {
   "cell_type": "code",
   "execution_count": null,
   "id": "3a588668",
   "metadata": {},
   "outputs": [],
   "source": [
    "#all the comments and ratings are collected\n",
    "for j in revpgurl:\n",
    "        driver.get(j)\n",
    "        time.sleep(3)\n",
    "        comment_tag = driver.find_elements_by_xpath(\"//div[@class='t-ZTKy']/div/div\")\n",
    "        rate_tag = driver.find_elements_by_xpath(\"//div[@class='_3LWZlK _1BLPMq']\")\n",
    "    \n",
    "        for k in comment_tag:\n",
    "            try:\n",
    "                cmt.append(k.text.replace(\"\\n\",\" \"))\n",
    "            except:\n",
    "                cmt.append(\"-\")\n",
    "        for r in rate_tag:\n",
    "            try:\n",
    "                rate.append(r.text)\n",
    "            except:\n",
    "                rate.append(\"-\")"
   ]
  },
  {
   "cell_type": "code",
   "execution_count": null,
   "id": "011a4bb4",
   "metadata": {},
   "outputs": [],
   "source": [
    "ratingsdf4 = {'Comment':cmt[0:1700],'Rating':rate[0:1700]}\n",
    "\n",
    "Ratedf4  = pd.DataFrame(ratingsdf4) #creating dataframe of reviews and ratings"
   ]
  },
  {
   "cell_type": "code",
   "execution_count": null,
   "id": "7c138863",
   "metadata": {},
   "outputs": [],
   "source": [
    "Ratedf4"
   ]
  },
  {
   "cell_type": "code",
   "execution_count": null,
   "id": "5235325b",
   "metadata": {},
   "outputs": [],
   "source": [
    "#searches for \"laptops\"\n",
    "search = driver.find_element_by_xpath('/html/body/div/div/div[1]/div[1]/div[2]/div[2]/form/div/div/input')\n",
    "search.send_keys('Laptop')\n",
    "searchbtn = driver.find_element_by_class_name('L0Z3Pu')\n",
    "searchbtn.click()\n"
   ]
  },
  {
   "cell_type": "code",
   "execution_count": null,
   "id": "407cd1bc",
   "metadata": {},
   "outputs": [],
   "source": [
    "produrl = []"
   ]
  },
  {
   "cell_type": "code",
   "execution_count": null,
   "id": "66a6c68a",
   "metadata": {},
   "outputs": [],
   "source": [
    "produrl_tag = driver.find_elements_by_xpath(\"//a[@class='_1fQZEK']\")\n",
    "for u in produrl_tag:\n",
    "     produrl.append(u.get_attribute(\"href\"))"
   ]
  },
  {
   "cell_type": "code",
   "execution_count": null,
   "id": "f62a4b1d",
   "metadata": {},
   "outputs": [],
   "source": [
    "revurl=[]"
   ]
  },
  {
   "cell_type": "code",
   "execution_count": null,
   "id": "9b058b29",
   "metadata": {},
   "outputs": [],
   "source": [
    "for i in produrl:\n",
    "    driver.get(i)\n",
    "    time.sleep(1)\n",
    "    rev_tag = driver.find_element_by_xpath(\"//*[@class='col JOpGWq']/a\")\n",
    "    revurl.append(rev_tag.get_attribute(\"href\"))\n",
    "    "
   ]
  },
  {
   "cell_type": "code",
   "execution_count": null,
   "id": "623917f4",
   "metadata": {},
   "outputs": [],
   "source": [
    "cmt = []\n",
    "rate = []\n",
    "revpgurl=[]"
   ]
  },
  {
   "cell_type": "code",
   "execution_count": null,
   "id": "b04be38c",
   "metadata": {},
   "outputs": [],
   "source": [
    "\n",
    "for i in revurl:\n",
    "    driver.get(i)\n",
    "    time.sleep(2)\n",
    "    \n",
    "              \n",
    "    revpg=driver.find_elements_by_xpath(\"//a[@class='ge-49M']\")\n",
    "    for n in revpg:\n",
    "        revpgurl.append(n.get_attribute(\"href\"))\n",
    "    "
   ]
  },
  {
   "cell_type": "code",
   "execution_count": null,
   "id": "f19f5a43",
   "metadata": {},
   "outputs": [],
   "source": [
    "for j in revpgurl:\n",
    "        driver.get(j)\n",
    "        time.sleep(3)\n",
    "        comment_tag = driver.find_elements_by_xpath(\"//div[@class='t-ZTKy']/div/div\")\n",
    "        rate_tag = driver.find_elements_by_xpath(\"//div[@class='_3LWZlK _1BLPMq']\")\n",
    "    \n",
    "        for k in comment_tag:\n",
    "            try:\n",
    "                cmt.append(k.text.replace(\"\\n\",\" \"))\n",
    "            except:\n",
    "                cmt.append(\"-\")\n",
    "        for r in rate_tag:\n",
    "            try:\n",
    "                rate.append(r.text)\n",
    "            except:\n",
    "                rate.append(\"-\")"
   ]
  },
  {
   "cell_type": "code",
   "execution_count": null,
   "id": "7075cf9d",
   "metadata": {},
   "outputs": [],
   "source": [
    "ratingsdf5 = {'Comment':cmt[0:1200],'Rating':rate[0:1200]}\n",
    "\n",
    "Ratedf5  = pd.DataFrame(ratingsdf5)"
   ]
  },
  {
   "cell_type": "code",
   "execution_count": null,
   "id": "932cce25",
   "metadata": {},
   "outputs": [],
   "source": [
    "FlipktData = pd.concat([Ratedf4,Ratedf5],ignore_index=True)"
   ]
  },
  {
   "cell_type": "code",
   "execution_count": null,
   "id": "d0daab87",
   "metadata": {},
   "outputs": [],
   "source": [
    "FlipktData"
   ]
  },
  {
   "cell_type": "code",
   "execution_count": null,
   "id": "1d74cbe1",
   "metadata": {},
   "outputs": [],
   "source": [
    "RatingsDF = pd.concat([AmaznData,FlipktData],ignore_index=True) #concatenating amazon dataframe and flipkart dataframe"
   ]
  },
  {
   "cell_type": "code",
   "execution_count": null,
   "id": "b67eab3e",
   "metadata": {},
   "outputs": [],
   "source": [
    "RatingsDF"
   ]
  },
  {
   "cell_type": "code",
   "execution_count": null,
   "id": "0b85763f",
   "metadata": {},
   "outputs": [],
   "source": [
    "RatingsDF.to_csv('RatingsWebscrape.csv') # Saving as .csv file"
   ]
  },
  {
   "cell_type": "code",
   "execution_count": null,
   "id": "f01b0a88",
   "metadata": {},
   "outputs": [],
   "source": []
  }
 ],
 "metadata": {
  "kernelspec": {
   "display_name": "Python 3",
   "language": "python",
   "name": "python3"
  },
  "language_info": {
   "codemirror_mode": {
    "name": "ipython",
    "version": 3
   },
   "file_extension": ".py",
   "mimetype": "text/x-python",
   "name": "python",
   "nbconvert_exporter": "python",
   "pygments_lexer": "ipython3",
   "version": "3.8.8"
  }
 },
 "nbformat": 4,
 "nbformat_minor": 5
}
